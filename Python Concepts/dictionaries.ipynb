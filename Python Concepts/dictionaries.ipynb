{
 "cells": [
  {
   "cell_type": "markdown",
   "id": "b57c889a",
   "metadata": {},
   "source": [
    "# DICTIONARIES\n",
    "\n",
    "- consists of a key and then an associated value"
   ]
  },
  {
   "cell_type": "code",
   "execution_count": 1,
   "id": "6178935e",
   "metadata": {},
   "outputs": [
    {
     "name": "stdout",
     "output_type": "stream",
     "text": [
      "Keys: dict_keys(['name', 'age', 'occupation', 'education'])\n",
      "Values: dict_values(['Shadow', 24, 'Engineer', \"Master's\"])\n",
      "Items: dict_items([('name', 'Shadow'), ('age', 24), ('occupation', 'Engineer'), ('education', \"Master's\")])\n",
      "Age: 24\n",
      "Country: Not specified\n",
      "Removed City: India\n",
      "Removed Gender: Gender not found\n",
      "Updated Person: {'name': 'Shadow', 'age': 24, 'occupation': 'Engineer', 'education': \"Master's\"}\n"
     ]
    }
   ],
   "source": [
    "# Creating a dictionary\n",
    "person = {\n",
    "    \"name\": \"Shadow\",\n",
    "    \"age\": 24,\n",
    "    \"city\": \"India\"\n",
    "}\n",
    "\n",
    "# keys()\n",
    "keys_list = person.keys()\n",
    "\n",
    "# values()\n",
    "values_list = person.values()\n",
    "\n",
    "# items()\n",
    "items_list = person.items()\n",
    "\n",
    "# get(key, default)\n",
    "age = person.get(\"age\", \"Unknown\")\n",
    "country = person.get(\"country\", \"Not specified\")\n",
    "\n",
    "# pop(key, default)\n",
    "city = person.pop(\"city\", \"City not found\")\n",
    "gender = person.pop(\"gender\", \"Gender not found\")\n",
    "\n",
    "# update(dictionary)\n",
    "additional_info = {\n",
    "    \"occupation\": \"Engineer\",\n",
    "    \"education\": \"Master's\"\n",
    "}\n",
    "person.update(additional_info)\n",
    "\n",
    "# clear()\n",
    "#person.clear()\n",
    "\n",
    "# Print results\n",
    "print(\"Keys:\", keys_list)\n",
    "print(\"Values:\", values_list)\n",
    "print(\"Items:\", items_list)\n",
    "print(\"Age:\", age)\n",
    "print(\"Country:\", country)\n",
    "print(\"Removed City:\", city)\n",
    "print(\"Removed Gender:\", gender)\n",
    "print(\"Updated Person:\", person)\n"
   ]
  }
 ],
 "metadata": {
  "kernelspec": {
   "display_name": "Python 3 (ipykernel)",
   "language": "python",
   "name": "python3"
  },
  "language_info": {
   "codemirror_mode": {
    "name": "ipython",
    "version": 3
   },
   "file_extension": ".py",
   "mimetype": "text/x-python",
   "name": "python",
   "nbconvert_exporter": "python",
   "pygments_lexer": "ipython3",
   "version": "3.9.13"
  }
 },
 "nbformat": 4,
 "nbformat_minor": 5
}
