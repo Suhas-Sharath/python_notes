{
 "cells": [
  {
   "cell_type": "markdown",
   "id": "45e01011-7edd-4c6d-8458-ad42494c1457",
   "metadata": {},
   "source": [
    "# Numeric\n",
    "\n",
    "### immutable data type\n",
    "- int\n",
    "- float\n",
    "- complex\n",
    "### int type\n",
    "- whole number"
   ]
  },
  {
   "cell_type": "code",
   "execution_count": 2,
   "id": "34bda4b0-5cbe-4b77-bf67-fdc41c0779c9",
   "metadata": {},
   "outputs": [
    {
     "name": "stdout",
     "output_type": "stream",
     "text": [
      "<class 'int'>\n"
     ]
    }
   ],
   "source": [
    "num = 10\n",
    "\n",
    "# to know the data type use 'type()'\n",
    "print(type(num))"
   ]
  },
  {
   "cell_type": "markdown",
   "id": "16c7974d-b1c5-47a1-adc4-98950dfa0c9f",
   "metadata": {},
   "source": [
    "### float type\n",
    "- real numbers"
   ]
  },
  {
   "cell_type": "code",
   "execution_count": 4,
   "id": "749bba7a-1f5f-4c2b-9676-598d3a9131d9",
   "metadata": {},
   "outputs": [
    {
     "name": "stdout",
     "output_type": "stream",
     "text": [
      "<class 'float'>\n"
     ]
    }
   ],
   "source": [
    "num = 7/10\n",
    "\n",
    "# to know the data type use 'type()'\n",
    "print(type(num))"
   ]
  },
  {
   "cell_type": "markdown",
   "id": "06fbadff-d3eb-40df-be2d-e6371f8d3a00",
   "metadata": {},
   "source": [
    "### Complex"
   ]
  },
  {
   "cell_type": "code",
   "execution_count": 6,
   "id": "a44b014b-4403-461b-b8ee-92fab9b2bf71",
   "metadata": {},
   "outputs": [
    {
     "name": "stdout",
     "output_type": "stream",
     "text": [
      "<class 'complex'>\n"
     ]
    }
   ],
   "source": [
    "num = 1 + 3j\n",
    "\n",
    "# to know the data type use 'type()'\n",
    "print(type(num))"
   ]
  },
  {
   "cell_type": "code",
   "execution_count": 7,
   "id": "daf9ee1c-d8bc-4cb1-8e9f-548721fc1605",
   "metadata": {},
   "outputs": [
    {
     "name": "stdout",
     "output_type": "stream",
     "text": [
      "Hexadecimal representation: 0xff\n",
      "Decimal representation: 255\n",
      "Binary representation: 0b1111\n",
      "2 raised to the power of 3 is: 8\n",
      "2 raised to the power of 3 using pow is: 8\n",
      "2 raised to the power of 3 modulo 5 is: 3\n",
      "The absolute value of -7 is: 7\n",
      "The rounded value of 3.14159 is: 3.14\n"
     ]
    }
   ],
   "source": [
    "### Other\n",
    "# Integer to Hexadecimal\n",
    "decimal_number = 255\n",
    "hex_value = hex(decimal_number)\n",
    "print(f\"Hexadecimal representation: {hex_value}\")\n",
    "\n",
    "# Hexadecimal to Integer\n",
    "hex_value = '0xff'\n",
    "decimal_number = int(hex_value, 16)\n",
    "print(f\"Decimal representation: {decimal_number}\")\n",
    "\n",
    "# Integer to Binary\n",
    "decimal_number = 15\n",
    "binary_value = bin(decimal_number)\n",
    "print(f\"Binary representation: {binary_value}\")\n",
    "\n",
    "# Exponentiation\n",
    "base = 2\n",
    "exponent = 3\n",
    "result = base ** exponent\n",
    "print(f\"{base} raised to the power of {exponent} is: {result}\")\n",
    "\n",
    "# Using pow for exponentiation\n",
    "result_pow = pow(base, exponent)\n",
    "print(f\"{base} raised to the power of {exponent} using pow is: {result_pow}\")\n",
    "\n",
    "# Using pow with modulo\n",
    "result_modulo = pow(base, exponent, 5)  # equivalent to (base ** exponent) % 5\n",
    "print(f\"{base} raised to the power of {exponent} modulo 5 is: {result_modulo}\")\n",
    "\n",
    "# Absolute value\n",
    "number = -7\n",
    "absolute_value = abs(number)\n",
    "print(f\"The absolute value of {number} is: {absolute_value}\")\n",
    "\n",
    "# Rounding\n",
    "float_number = 3.14159\n",
    "rounded_number = round(float_number, 2)\n",
    "print(f\"The rounded value of {float_number} is: {rounded_number}\")"
   ]
  },
  {
   "cell_type": "markdown",
   "id": "de5c9a6c-613e-4b10-a94b-18ece5510c32",
   "metadata": {},
   "source": [
    "# math\n",
    "\n",
    "### using math "
   ]
  },
  {
   "cell_type": "code",
   "execution_count": 1,
   "id": "a8431e5b-1145-488a-ba1f-b0f9171b98db",
   "metadata": {},
   "outputs": [
    {
     "name": "stdout",
     "output_type": "stream",
     "text": [
      "Square root of 25 is: 5.0\n",
      "Sine of 30 degrees is: 0.49999999999999994\n"
     ]
    }
   ],
   "source": [
    "import math\n",
    "\n",
    "# Square root\n",
    "sqrt_result = math.sqrt(25)\n",
    "print(f\"Square root of 25 is: {sqrt_result}\")\n",
    "\n",
    "# Trigonometric functions\n",
    "sine_result = math.sin(math.radians(30))  # sine of 30 degrees\n",
    "print(f\"Sine of 30 degrees is: {sine_result}\")"
   ]
  },
  {
   "cell_type": "markdown",
   "id": "bd68745e-6cd7-4b82-a3b6-eb96c04b7246",
   "metadata": {},
   "source": [
    "# complex"
   ]
  },
  {
   "cell_type": "code",
   "execution_count": 11,
   "id": "c9f60449-6799-4333-bbda-99a8f582ea79",
   "metadata": {},
   "outputs": [
    {
     "name": "stdout",
     "output_type": "stream",
     "text": [
      "Sum of complex numbers: (3+1j)\n"
     ]
    }
   ],
   "source": [
    "complex_num_1 = 2 + 3j\n",
    "complex_num_2 = 1 - 2j\n",
    "complex_sum = complex_num_1 + complex_num_2\n",
    "print(f\"Sum of complex numbers: {complex_sum}\")"
   ]
  },
  {
   "cell_type": "code",
   "execution_count": 12,
   "id": "79c27933-57f9-4a00-8b6b-4ce21153af60",
   "metadata": {},
   "outputs": [],
   "source": [
    "# decimal"
   ]
  },
  {
   "cell_type": "code",
   "execution_count": 13,
   "id": "b88efcf7-a2d8-4204-b86f-404faf300de4",
   "metadata": {},
   "outputs": [
    {
     "name": "stdout",
     "output_type": "stream",
     "text": [
      "Decimal sum: 0.3\n"
     ]
    }
   ],
   "source": [
    "from decimal import Decimal\n",
    "\n",
    "decimal_num_1 = Decimal('0.1')\n",
    "decimal_num_2 = Decimal('0.2')\n",
    "decimal_sum = decimal_num_1 + decimal_num_2\n",
    "print(f\"Decimal sum: {decimal_sum}\")"
   ]
  },
  {
   "cell_type": "markdown",
   "id": "11bb27bb-4a01-42a2-9323-d2bc3c073e14",
   "metadata": {},
   "source": [
    "# random"
   ]
  },
  {
   "cell_type": "code",
   "execution_count": 15,
   "id": "d4992b4a-703e-45fe-b204-a71339199de4",
   "metadata": {},
   "outputs": [
    {
     "name": "stdout",
     "output_type": "stream",
     "text": [
      "Random float between 0 and 1: 0.8080598266326054\n",
      "Random integer between 1 and 100: 3\n"
     ]
    }
   ],
   "source": [
    "import random\n",
    "\n",
    "# Random float between 0 and 1\n",
    "random_float = random.random()\n",
    "print(f\"Random float between 0 and 1: {random_float}\")\n",
    "\n",
    "# Random integer in a range\n",
    "random_integer = random.randint(1, 100)\n",
    "print(f\"Random integer between 1 and 100: {random_integer}\")"
   ]
  }
 ],
 "metadata": {
  "kernelspec": {
   "display_name": "Python 3 (ipykernel)",
   "language": "python",
   "name": "python3"
  },
  "language_info": {
   "codemirror_mode": {
    "name": "ipython",
    "version": 3
   },
   "file_extension": ".py",
   "mimetype": "text/x-python",
   "name": "python",
   "nbconvert_exporter": "python",
   "pygments_lexer": "ipython3",
   "version": "3.12.4"
  }
 },
 "nbformat": 4,
 "nbformat_minor": 5
}
