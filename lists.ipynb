{
 "cells": [
  {
   "cell_type": "markdown",
   "id": "94fb11cd",
   "metadata": {},
   "source": [
    "# LISTS\n",
    "\n",
    "- dynamically sized arrays\n",
    "- mutable"
   ]
  },
  {
   "cell_type": "code",
   "execution_count": 1,
   "id": "1230df1c",
   "metadata": {},
   "outputs": [
    {
     "name": "stdout",
     "output_type": "stream",
     "text": [
      "<class 'list'>\n"
     ]
    }
   ],
   "source": [
    "l = ['python','go','r']\n",
    "\n",
    "# data type \n",
    "print(type(l))"
   ]
  },
  {
   "cell_type": "code",
   "execution_count": 2,
   "id": "e6c19027",
   "metadata": {},
   "outputs": [
    {
     "name": "stdout",
     "output_type": "stream",
     "text": [
      "<class 'list'>\n"
     ]
    }
   ],
   "source": [
    "lst = [1,'shadow',9.9,[1,2],[1,2,'a']]\n",
    "\n",
    "print(type(lst))\n",
    "\n",
    "# it accepts any type of data and accepts duplicate elements "
   ]
  },
  {
   "cell_type": "markdown",
   "id": "5644d0ab",
   "metadata": {},
   "source": [
    "### accessing elements "
   ]
  },
  {
   "cell_type": "code",
   "execution_count": 3,
   "id": "e5d3b8a0",
   "metadata": {},
   "outputs": [
    {
     "name": "stdout",
     "output_type": "stream",
     "text": [
      "4\n",
      "1\n"
     ]
    }
   ],
   "source": [
    "# index operator []\n",
    "\n",
    "a = [1, 2, 3, 4, 5]\n",
    "\n",
    "print(a[3])\n",
    "print(a[0])      # index error (if out of range)"
   ]
  },
  {
   "cell_type": "markdown",
   "id": "b710f8f1",
   "metadata": {},
   "source": [
    "#### indexing and slicing"
   ]
  },
  {
   "cell_type": "code",
   "execution_count": 4,
   "id": "cce178cc",
   "metadata": {},
   "outputs": [
    {
     "name": "stdout",
     "output_type": "stream",
     "text": [
      "[1, 2, 3, 4, 5]\n",
      "[3, 4, 5]\n",
      "[1, 2, 3]\n",
      "[2, 3, 4]\n",
      "[1, 3]\n",
      "[4, 5]\n",
      "[1, 2]\n",
      "[2, 3, 4]\n",
      "[]\n",
      "[3, 2, 1]\n",
      "[5, 4, 3]\n",
      "[5, 4, 3, 2, 1]\n"
     ]
    }
   ],
   "source": [
    "a = [1, 2, 3, 4, 5]\n",
    "\n",
    "print(a[0:len(a)])   # Print the entire list using index 0 as start and len(a) as end\n",
    "\n",
    "print(a[2:])         # Print elements from index 2 to the end\n",
    "\n",
    "print(a[:3])         # Print elements from the start up to (but not including) index 3\n",
    "\n",
    "print(a[1:4])        # Print elements from index 1 up to (but not including) index 4\n",
    "\n",
    "print(a[0:4:2])      # Print elements starting from index 0, skipping every 2nd element\n",
    "\n",
    "print(a[-2:])        # Print the last 2 elements using negative start index\n",
    "\n",
    "print(a[:-3])        # Print elements from the start up to (but not including) the 3rd last index\n",
    "\n",
    "print(a[-4:-1])      # Print elements from the 4th last index up to (but not including) the last index\n",
    "\n",
    "print(a[-2:-4])      # Incorrect, should reverse the start and end indices\n",
    "\n",
    "print(a[2::-1])      # Print elements from index 2 in reverse order\n",
    "\n",
    "print (a[:-4:-1])    # Print the last 3 elements in reverse order using negative step and end index\n",
    "\n",
    "print(a[::-1])       # Print the entire list in reverse order\n"
   ]
  },
  {
   "cell_type": "markdown",
   "id": "a4972e8b",
   "metadata": {},
   "source": [
    "### list methods"
   ]
  },
  {
   "cell_type": "code",
   "execution_count": 5,
   "id": "5b8e10aa",
   "metadata": {},
   "outputs": [
    {
     "name": "stdout",
     "output_type": "stream",
     "text": [
      "Modified List: [10, 9, 8, 7, 6, 4, 2, 1]\n",
      "Popped Item: 5\n",
      "Index of 2: 1\n",
      "Count of 5: 0\n",
      "Copied List: [10, 9, 8, 7, 6, 4, 2, 1]\n"
     ]
    }
   ],
   "source": [
    "my_list = [1, 2, 3, 4, 5]\n",
    "\n",
    "# append(item)\n",
    "my_list.append(6)  # Adds 6 to the end of the list\n",
    "\n",
    "# insert(index, item)\n",
    "my_list.insert(2, 7)  # Inserts 7 at index 2\n",
    "\n",
    "# extend(iterable)\n",
    "other_list = [8, 9, 10]\n",
    "my_list.extend(other_list)  # Extends my_list with elements from other_list\n",
    "\n",
    "# remove(item)\n",
    "my_list.remove(3)  # Removes the first occurrence of 3\n",
    "\n",
    "# pop(index)\n",
    "popped_item = my_list.pop(4)  # Removes and returns the item at index 4\n",
    "\n",
    "# index(item)\n",
    "index_of_2 = my_list.index(2)  # Finds the index of the first occurrence of 2\n",
    "\n",
    "# count(item)\n",
    "count_of_5 = my_list.count(5)  # Counts the occurrences of 5 in the list\n",
    "\n",
    "# sort()\n",
    "my_list.sort()  # Sorts the list in ascending order\n",
    "\n",
    "# reverse()\n",
    "my_list.reverse()  # Reverses the order of elements in the list\n",
    "\n",
    "# copy()\n",
    "copied_list = my_list.copy()  # Creates a shallow copy of the list\n",
    "\n",
    "# Print the modified list and other results\n",
    "print(\"Modified List:\", my_list)\n",
    "print(\"Popped Item:\", popped_item)\n",
    "print(\"Index of 2:\", index_of_2)\n",
    "print(\"Count of 5:\", count_of_5)\n",
    "print(\"Copied List:\", copied_list)"
   ]
  },
  {
   "cell_type": "markdown",
   "id": "ee6da5bd",
   "metadata": {},
   "source": [
    "### built-in functions"
   ]
  },
  {
   "cell_type": "code",
   "execution_count": 6,
   "id": "b6e43cf0",
   "metadata": {},
   "outputs": [
    {
     "name": "stdout",
     "output_type": "stream",
     "text": [
      "Length: 5\n",
      "Maximum: 5\n",
      "Minimum: 1\n",
      "Total: 15\n",
      "Sorted List: [1, 2, 3, 4, 5]\n",
      "Reversed List: [5, 4, 3, 2, 1]\n",
      "All Positive: True\n",
      "Any Negative: False\n"
     ]
    }
   ],
   "source": [
    "my_list = [1, 2, 3, 4, 5]\n",
    "\n",
    "length = len(my_list)  # Get the length of the list\n",
    "\n",
    "maximum = max(my_list)  # Get the maximum value in the list\n",
    "\n",
    "minimum = min(my_list)  # Get the minimum value in the list\n",
    "\n",
    "total = sum(my_list)  # Get the sum of all values in the list\n",
    "\n",
    "sorted_list = sorted(my_list)  # Get a new sorted list from the elements\n",
    "\n",
    "reversed_list = list(reversed(my_list))  # Get a new reversed list from the elements\n",
    "\n",
    "all_positive = all(item > 0 for item in my_list)  # Check if all elements are positive\n",
    "\n",
    "any_negative = any(item < 0 for item in my_list)  # Check if any element is negative\n",
    "\n",
    "# Print results\n",
    "print(\"Length:\", length)\n",
    "print(\"Maximum:\", maximum)\n",
    "print(\"Minimum:\", minimum)\n",
    "print(\"Total:\", total)\n",
    "print(\"Sorted List:\", sorted_list)\n",
    "print(\"Reversed List:\", reversed_list)\n",
    "print(\"All Positive:\", all_positive)\n",
    "print(\"Any Negative:\", any_negative)\n"
   ]
  }
 ],
 "metadata": {
  "kernelspec": {
   "display_name": "Python 3 (ipykernel)",
   "language": "python",
   "name": "python3"
  },
  "language_info": {
   "codemirror_mode": {
    "name": "ipython",
    "version": 3
   },
   "file_extension": ".py",
   "mimetype": "text/x-python",
   "name": "python",
   "nbconvert_exporter": "python",
   "pygments_lexer": "ipython3",
   "version": "3.9.13"
  }
 },
 "nbformat": 4,
 "nbformat_minor": 5
}
